{
 "cells": [
  {
   "cell_type": "code",
   "execution_count": 1,
   "id": "327f9504-3a96-4e34-9b48-d9b96b93e62b",
   "metadata": {},
   "outputs": [],
   "source": [
    "!pip install -qU langchain langchain-core langchain-community langchain-openai\n",
    "!pip install -qU qdrant-client\n",
    "!pip install -qU tiktoken pymupdf\n",
    "!pip install beautifulsoup4\n",
    "!pip install openai"
   ]
  },
  {
   "cell_type": "code",
   "execution_count": 4,
   "id": "42cbe378-6b43-4fa1-8360-541187f5673f",
   "metadata": {},
   "outputs": [
    {
     "name": "stdin",
     "output_type": "stream",
     "text": [
      "OpenAI API Key: ········\n"
     ]
    }
   ],
   "source": [
    "import os\n",
    "import getpass\n",
    "\n",
    "os.environ[\"OPENAI_API_KEY\"] = getpass.getpass(\"OpenAI API Key:\")"
   ]
  },
  {
   "cell_type": "code",
   "execution_count": 5,
   "id": "42af4b59-7191-41b6-b221-a31dd8917918",
   "metadata": {},
   "outputs": [],
   "source": [
    "from langchain_openai import ChatOpenAI\n",
    "from langchain_core.prompts import ChatPromptTemplate\n",
    "\n",
    "\n",
    "openai_chat_model = ChatOpenAI(model=\"gpt-3.5-turbo\")\n",
    "\n",
    "system_template = \"You are helpful assistant who helps \\\n",
    "international student navigate OPT (Optional Practical Training)\"\n",
    "\n",
    "human_template = \"{content}\"\n",
    "\n",
    "chat_prompt = ChatPromptTemplate.from_messages([\n",
    "    (\"system\", system_template),\n",
    "    (\"human\", human_template)\n",
    "])"
   ]
  },
  {
   "cell_type": "markdown",
   "id": "03123922-9b01-437b-985d-9efed2ba526b",
   "metadata": {},
   "source": [
    "### Load HTML"
   ]
  },
  {
   "cell_type": "code",
   "execution_count": 11,
   "id": "a356cd25-7eea-4599-b309-93b738697ef2",
   "metadata": {},
   "outputs": [],
   "source": [
    "import requests\n",
    "from bs4 import BeautifulSoup\n",
    "\n",
    "URL = \"https://isss.umn.edu/fstudents/employment/opt/basics\"\n",
    "page = requests.get(URL)\n",
    "\n",
    "soup = BeautifulSoup(page.content, \"html.parser\")"
   ]
  },
  {
   "cell_type": "code",
   "execution_count": 13,
   "id": "1e53a43e-fbc3-4b9a-b7c4-d557e3672b3f",
   "metadata": {},
   "outputs": [],
   "source": [
    "contents = soup.find(id = \"content\")\n",
    "field_item = contents.find_all(\"div\", class_= \"field__item\")"
   ]
  },
  {
   "cell_type": "markdown",
   "id": "65b0d0e1-7800-4b15-b9cf-50c2e9638dfc",
   "metadata": {},
   "source": [
    "### Chunk the items found"
   ]
  },
  {
   "cell_type": "code",
   "execution_count": null,
   "id": "ee8aa6ca-1624-4554-8977-0bff4a5f6528",
   "metadata": {},
   "outputs": [],
   "source": []
  },
  {
   "cell_type": "code",
   "execution_count": 33,
   "id": "2c8abf1e-5b23-42ec-85bb-e34ed62d7dcf",
   "metadata": {},
   "outputs": [],
   "source": [
    "from openai import OpenAI\n",
    "\n",
    "client = OpenAI(api_key=os.environ[\"OPENAI_API_KEY\"])"
   ]
  },
  {
   "cell_type": "code",
   "execution_count": 35,
   "id": "02f84c90-18cc-45bb-a06d-036cba911790",
   "metadata": {},
   "outputs": [],
   "source": [
    "prompt = \"\"\"\n",
    "Remove unnecessary html tags and only extract important information from the html provided\"\n",
    "\"\"\""
   ]
  },
  {
   "cell_type": "code",
   "execution_count": null,
   "id": "2ed488bc-32ea-4767-882f-45889769a4da",
   "metadata": {},
   "outputs": [],
   "source": [
    "completion = client.chat.completions.create(\n",
    "    model=\"gpt-3.5-turbo\", \n",
    "    messages=[\n",
    "    {\"role\": \"system\", \"content\": \"You are helpful assistant who helps \\\n",
    "        international student navigate OPT (Optional Practical Training)\"},\n",
    "    {\"role\": \"user\", \"content\": content}\n",
    "  ]\n",
    ")"
   ]
  },
  {
   "cell_type": "code",
   "execution_count": 26,
   "id": "415081e1-d61b-42a2-b43d-dbccd2e7f3b1",
   "metadata": {},
   "outputs": [],
   "source": [
    "p_elements = []\n",
    "li_elements = []"
   ]
  },
  {
   "cell_type": "code",
   "execution_count": null,
   "id": "eceec4c0-d4ee-4139-9366-4e00eb2ace39",
   "metadata": {},
   "outputs": [],
   "source": [
    "import tiktoken\n",
    "from langchain.text_splitter import RecursiveCharacterTextSplitter\n",
    "\n",
    "\n",
    "enc = tiktoken.encoding_for_model(\"gpt-3.5-turbo\")"
   ]
  },
  {
   "cell_type": "code",
   "execution_count": null,
   "id": "008daea3-f7cf-4245-8cea-da489f69a439",
   "metadata": {},
   "outputs": [],
   "source": [
    "from operator import itemgetter\n",
    "from langchain.schema.output_parser import StrOutputParser\n",
    "from langchain.schema.runnable import RunnablePassthrough\n",
    "\n",
    "retrieval_augmented_qa_chain = (\n",
    "    {\"context\": itemgetter(\"question\") | qdrant_retriever, \n",
    "     \"question\": itemgetter(\"question\")}\n",
    "    | RunnablePassthrough.assign(context=itemgetter(\"context\"))\n",
    "    | {\"response\": rag_prompt | openai_chat_model, \n",
    "       \"context\": itemgetter(\"context\")}\n",
    "}"
   ]
  }
 ],
 "metadata": {
  "kernelspec": {
   "display_name": "Python 3 (ipykernel)",
   "language": "python",
   "name": "python3"
  },
  "language_info": {
   "codemirror_mode": {
    "name": "ipython",
    "version": 3
   },
   "file_extension": ".py",
   "mimetype": "text/x-python",
   "name": "python",
   "nbconvert_exporter": "python",
   "pygments_lexer": "ipython3",
   "version": "3.11.8"
  }
 },
 "nbformat": 4,
 "nbformat_minor": 5
}
